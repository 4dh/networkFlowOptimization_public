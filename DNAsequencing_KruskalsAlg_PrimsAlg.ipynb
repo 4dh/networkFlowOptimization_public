{
  "nbformat": 4,
  "nbformat_minor": 0,
  "metadata": {
    "colab": {
      "name": "HW8_688_dmh_final.ipynb",
      "provenance": [],
      "collapsed_sections": [],
      "include_colab_link": true
    },
    "kernelspec": {
      "name": "python3",
      "display_name": "Python 3"
    }
  },
  "cells": [
    {
      "cell_type": "markdown",
      "metadata": {
        "id": "view-in-github",
        "colab_type": "text"
      },
      "source": [
        "<a href=\"https://colab.research.google.com/github/4dh/networkFlowOptimization_public/blob/master/DNAsequencing_KruskalsAlg_PrimsAlg.ipynb\" target=\"_parent\"><img src=\"https://colab.research.google.com/assets/colab-badge.svg\" alt=\"Open In Colab\"/></a>"
      ]
    },
    {
      "cell_type": "markdown",
      "metadata": {
        "id": "CiwIaBwCLOD5",
        "colab_type": "text"
      },
      "source": [
        "Danielle Heymann\n",
        "\n",
        "CSCI 688: Network Optimization\n",
        "\n",
        "**Homework 8 Programs**"
      ]
    },
    {
      "cell_type": "code",
      "metadata": {
        "id": "be8jhnf9LNNk",
        "colab_type": "code",
        "colab": {}
      },
      "source": [
        "import networkx as nx\n",
        "import csv\n",
        "import numpy as np\n"
      ],
      "execution_count": null,
      "outputs": []
    },
    {
      "cell_type": "markdown",
      "metadata": {
        "id": "_JFqsrkgf-b7",
        "colab_type": "text"
      },
      "source": [
        "**Problem 2: Kruskal's, Prim's, and DNA**"
      ]
    },
    {
      "cell_type": "code",
      "metadata": {
        "id": "YoZ_xB6YMZmM",
        "colab_type": "code",
        "colab": {
          "base_uri": "https://localhost:8080/",
          "height": 103
        },
        "outputId": "846ac0e6-18bd-4c08-defc-b181ab541068"
      },
      "source": [
        "# Given DNA sequences\n",
        "DNAs = [[0,0,0,0,0,0,0,1,0,1],\n",
        "        [1,1,0,0,1,1,1,1,1,1],\n",
        "        [1,1,0,0,1,1,1,1,1,0], \n",
        "        [0,0,0,0,0,0,1,0,0,1],\n",
        "        [0,0,0,0,1,1,1,1,1,1]]\n",
        "\n",
        "# table to show amount of flips between 2 sequences\n",
        "Flips = np.zeros((5,5))\n",
        "\n",
        "# variable i to got through each row for DNA sequence corresponding to one list element- which is another list- in DNAs\n",
        "for i in DNAs:\n",
        "  # flip count variable\n",
        "  # another variable r to go through each row to compare to i's 1's and 0's\n",
        "  for r in DNAs:\n",
        "    flipcount = 0\n",
        "    # another counter p to go through each element in DNA sequences that we compare\n",
        "    for p in range(10):\n",
        "      if r[p] != i[p]:\n",
        "        flipcount += 1\n",
        "      \n",
        "      Flips[DNAs.index(i)][DNAs.index(r)] = flipcount\n",
        "\n",
        "# neat table for flips from sequences\n",
        "# note that it is symmetric over diagonal and diagonal is 0 which \n",
        "# is expected as there are no flips from sequence i, to itself, sequence i\n",
        "for i in Flips:\n",
        "  print(i)\n"
      ],
      "execution_count": null,
      "outputs": [
        {
          "output_type": "stream",
          "text": [
            "[0. 6. 7. 2. 4.]\n",
            "[6. 0. 1. 6. 2.]\n",
            "[7. 1. 0. 7. 3.]\n",
            "[2. 6. 7. 0. 4.]\n",
            "[4. 2. 3. 4. 0.]\n"
          ],
          "name": "stdout"
        }
      ]
    },
    {
      "cell_type": "code",
      "metadata": {
        "id": "l_847Fm3lnL7",
        "colab_type": "code",
        "colab": {
          "base_uri": "https://localhost:8080/",
          "height": 363
        },
        "outputId": "e07ed970-30a6-4b3d-a1ef-6ffcaacc6dd6"
      },
      "source": [
        "# Now I am storing flip values from the right top diagonal for edge cost between nodes\n",
        "costs = []\n",
        "cost= []\n",
        "\n",
        "for i in range(0,5):\n",
        "  #print(i)\n",
        "  for k in range((i+1),5):\n",
        "    costs.append([('node i', i+1),('node j', k+1), ('cost', (Flips[i,k])), ('is in MST','no')])\n",
        "    cost.append([i+1, k+1, (Flips[i,k])])\n",
        "for i in costs:\n",
        "  print(i)\n",
        "for i in cost:\n",
        "  print(i)"
      ],
      "execution_count": null,
      "outputs": [
        {
          "output_type": "stream",
          "text": [
            "[('node i', 1), ('node j', 2), ('cost', 6.0), ('is in MST', 'no')]\n",
            "[('node i', 1), ('node j', 3), ('cost', 7.0), ('is in MST', 'no')]\n",
            "[('node i', 1), ('node j', 4), ('cost', 2.0), ('is in MST', 'no')]\n",
            "[('node i', 1), ('node j', 5), ('cost', 4.0), ('is in MST', 'no')]\n",
            "[('node i', 2), ('node j', 3), ('cost', 1.0), ('is in MST', 'no')]\n",
            "[('node i', 2), ('node j', 4), ('cost', 6.0), ('is in MST', 'no')]\n",
            "[('node i', 2), ('node j', 5), ('cost', 2.0), ('is in MST', 'no')]\n",
            "[('node i', 3), ('node j', 4), ('cost', 7.0), ('is in MST', 'no')]\n",
            "[('node i', 3), ('node j', 5), ('cost', 3.0), ('is in MST', 'no')]\n",
            "[('node i', 4), ('node j', 5), ('cost', 4.0), ('is in MST', 'no')]\n",
            "[1, 2, 6.0]\n",
            "[1, 3, 7.0]\n",
            "[1, 4, 2.0]\n",
            "[1, 5, 4.0]\n",
            "[2, 3, 1.0]\n",
            "[2, 4, 6.0]\n",
            "[2, 5, 2.0]\n",
            "[3, 4, 7.0]\n",
            "[3, 5, 3.0]\n",
            "[4, 5, 4.0]\n"
          ],
          "name": "stdout"
        }
      ]
    },
    {
      "cell_type": "markdown",
      "metadata": {
        "id": "NIREbCiWQjr_",
        "colab_type": "text"
      },
      "source": [
        "For Kruskal's algorithm, we start with T= an empty set of edges. Here, I will sort edges in order of increasing edge cost and add each edge in (without creating a cycle to keep this a tree). I will sort the edges according to cost, and then I will add each edge into the solution set (while making sure that for each edge that I add, the number of edges in the tree is equal to n-1, where n is the number of unique nodes in the current tree."
      ]
    },
    {
      "cell_type": "code",
      "metadata": {
        "id": "XyWRwYv7xIrx",
        "colab_type": "code",
        "colab": {
          "base_uri": "https://localhost:8080/",
          "height": 363
        },
        "outputId": "a87d838f-7f95-4288-8a3d-0a70be0ecc34"
      },
      "source": [
        "sortedcosts = sorted(costs, key=lambda elem: elem[2])\n",
        "for i in sortedcosts:\n",
        "  print(i)\n",
        "\n",
        "sortedcost = sorted(cost, key=lambda elem: elem[2])\n",
        "for i in sortedcost:\n",
        "  print(i)\n",
        "\n",
        "nodes04 = sortedcost[0:9]\n"
      ],
      "execution_count": null,
      "outputs": [
        {
          "output_type": "stream",
          "text": [
            "[('node i', 2), ('node j', 3), ('cost', 1.0), ('is in MST', 'no')]\n",
            "[('node i', 1), ('node j', 4), ('cost', 2.0), ('is in MST', 'no')]\n",
            "[('node i', 2), ('node j', 5), ('cost', 2.0), ('is in MST', 'no')]\n",
            "[('node i', 3), ('node j', 5), ('cost', 3.0), ('is in MST', 'no')]\n",
            "[('node i', 1), ('node j', 5), ('cost', 4.0), ('is in MST', 'no')]\n",
            "[('node i', 4), ('node j', 5), ('cost', 4.0), ('is in MST', 'no')]\n",
            "[('node i', 1), ('node j', 2), ('cost', 6.0), ('is in MST', 'no')]\n",
            "[('node i', 2), ('node j', 4), ('cost', 6.0), ('is in MST', 'no')]\n",
            "[('node i', 1), ('node j', 3), ('cost', 7.0), ('is in MST', 'no')]\n",
            "[('node i', 3), ('node j', 4), ('cost', 7.0), ('is in MST', 'no')]\n",
            "[2, 3, 1.0]\n",
            "[1, 4, 2.0]\n",
            "[2, 5, 2.0]\n",
            "[3, 5, 3.0]\n",
            "[1, 5, 4.0]\n",
            "[4, 5, 4.0]\n",
            "[1, 2, 6.0]\n",
            "[2, 4, 6.0]\n",
            "[1, 3, 7.0]\n",
            "[3, 4, 7.0]\n"
          ],
          "name": "stdout"
        }
      ]
    },
    {
      "cell_type": "code",
      "metadata": {
        "id": "RZMFquxp3wb6",
        "colab_type": "code",
        "colab": {
          "base_uri": "https://localhost:8080/",
          "height": 34
        },
        "outputId": "8ea21291-74bc-4309-a742-fc622afe026f"
      },
      "source": [
        "#T is the solution set\n",
        "T = []\n",
        "\n",
        "#for simplicity of indexing and node names, I am making the node values from 0-4 instead of 1-5\n",
        "for i in range(len(nodes04)):\n",
        "  nodes04[i][0] -= 1\n",
        "  nodes04[i][1] -= 1\n",
        "\n",
        "print(nodes04)"
      ],
      "execution_count": null,
      "outputs": [
        {
          "output_type": "stream",
          "text": [
            "[[1, 2, 1.0], [0, 3, 2.0], [1, 4, 2.0], [2, 4, 3.0], [0, 4, 4.0], [3, 4, 4.0], [0, 1, 6.0], [1, 3, 6.0], [0, 2, 7.0]]\n"
          ],
          "name": "stdout"
        }
      ]
    },
    {
      "cell_type": "code",
      "metadata": {
        "id": "LZr0PBmaUOpy",
        "colab_type": "code",
        "colab": {
          "base_uri": "https://localhost:8080/",
          "height": 259
        },
        "outputId": "d1cf4bf3-3e3f-48fb-a4a9-d294752ad3be"
      },
      "source": [
        "T = []\n",
        "#friends are any predecessors of a node\n",
        "friends = [['.'],['.'],['.'],['.'],['.']]\n",
        "#value of 1 if the node is in solution set and 0 if not)\n",
        "indicator = [0,0,0,0,0]\n",
        "#for i in range\n",
        "\n",
        "#add first edge to MST\n",
        "T.append(nodes04[0])\n",
        "\n",
        "i = nodes04[0][0]\n",
        "j = nodes04[0][1]\n",
        "indicator[i] = 1\n",
        "indicator[j] = 1\n",
        "\n",
        "if i not in friends[j]:\n",
        "  friends[j].append(i)\n",
        "if j not in friends[i]:\n",
        "  friends[i].append(j)\n",
        "\n",
        "nodesum = 2\n",
        "for r in range(1, len(nodes04)):\n",
        "  i = nodes04[r][0]\n",
        "  j = nodes04[r][1]\n",
        "  found = False\n",
        "\n",
        "  for q in range(len(friends)):\n",
        "    if ((i in friends[q]) and (j in friends[q])):\n",
        "      found = True\n",
        "\n",
        "  if (len(T) < nodesum) and ((i not in friends[j]) or (j not in friends[i])) and (found == False):\n",
        "  \n",
        "    T.append(nodes04[r])\n",
        "    indicator[i] = 1\n",
        "    indicator[j] = 1\n",
        "    nodesum = sum(indicator)\n",
        "\n",
        "    # i and j are now friends\n",
        "    if i not in friends[j]:\n",
        "      friends[j].append(i)\n",
        "    # share i's friends with j\n",
        "    for y in friends[i]:\n",
        "      if y not in friends[j]:\n",
        "        friends[j].append(y)\n",
        "\n",
        "    #j and i are no friends\n",
        "    if j not in friends[i]:\n",
        "      friends[i].append(j)\n",
        "    #share j's friends with i\n",
        "    for z in friends[j]:\n",
        "      if z not in friends[i]:\n",
        "        friends[i].append(z)\n",
        "\n",
        "for i in range(len(friends)):\n",
        "  print(i)\n",
        "  print(friends[i])\n",
        "\n",
        "#cost calculation\n",
        "costtotal1 = 0\n",
        "for i in range(len(T)):\n",
        "  if i < len(T):\n",
        "    ni1 = T[i][0]\n",
        "    nj1 = T[i][1]\n",
        "    cninj1 = Flips[ni1][nj1]\n",
        "    costtotal1 = costtotal1 +cninj1\n",
        "\n",
        "print(\"\")\n",
        "print('___________SOLUTION FOR MST___(using Kruskals alg)_________')\n",
        "print(T)\n",
        "print(\"cost: \", costtotal1)\n"
      ],
      "execution_count": null,
      "outputs": [
        {
          "output_type": "stream",
          "text": [
            "0\n",
            "['.', 3, 0, 4, 1, 2]\n",
            "1\n",
            "['.', 2, 4, 1]\n",
            "2\n",
            "['.', 1]\n",
            "3\n",
            "['.', 0]\n",
            "4\n",
            "['.', 1, 2, 0, 3]\n",
            "\n",
            "___________SOLUTION FOR MST___(using Kruskals alg)_________\n",
            "[[1, 2, 1.0], [0, 3, 2.0], [1, 4, 2.0], [0, 4, 4.0]]\n",
            "cost:  9.0\n"
          ],
          "name": "stdout"
        }
      ]
    },
    {
      "cell_type": "markdown",
      "metadata": {
        "id": "tCBnKFgSDVCo",
        "colab_type": "text"
      },
      "source": [
        "Prim's Algorithm"
      ]
    },
    {
      "cell_type": "code",
      "metadata": {
        "id": "0C-X3iyUDZLi",
        "colab_type": "code",
        "colab": {
          "base_uri": "https://localhost:8080/",
          "height": 86
        },
        "outputId": "ab94b6e8-2a9f-400e-8bbc-d1c1aafde418"
      },
      "source": [
        "# I will recycle the edge cost matrix from previous work, and will be using nodes04prim array \n",
        "# to retrieve costs between nodes when needed.\n",
        "\n",
        "#edges list witg costs to look at adjacent nodes of what we are working with\n",
        "print(nodes04)\n",
        "edgelistprims = sorted(nodes04, key=lambda ele: ele[2])\n",
        "\n",
        "# node list for node and weight\n",
        "#initial distance is infinity to the nodes that are not the first node we choose\n",
        "initialnodedistance = [(0,0),(1,float('inf')),(2,float('inf')),(3,float('inf')),(4,float('inf'))]\n",
        "\n",
        "\n",
        "solution = []\n",
        "pathcost = []\n",
        "\n",
        "#node-cost pair list to keep and update\n",
        "nodecostpairs = sorted(initialnodedistance, key=lambda ele: ele[1])\n",
        "\n",
        "#this one we will pop the first value from, so it will decrease until all nodes are in solution\n",
        "nodesNOTinS = [0,1,2,3,4]\n",
        "\n",
        "#look at every node in the list of edges to see if the distance from the node we are on\n",
        "#has shorter distance to neighbors than we already know of\n",
        "#for e in nodes04prims:\n",
        "counter_a = 0\n",
        "\n",
        "for i in range(5): \n",
        "  switch = False\n",
        "  #explored_node has attributes (node, distance)\n",
        "  \n",
        "  explored_node = nodecostpairs[counter_a]\n",
        "\n",
        "  #if counter_a == 0:\n",
        "    #we have nothing in solution and we are on starting node- need to add this \n",
        "    \n",
        "    #solution.append(explored_node[0])\n",
        "    #popped = nodecostpairsNOTinS.pop()\n",
        "    #print(popped)\n",
        "\n",
        "  for t in edgelistprims:\n",
        "      #t has attributes (node i, node j, cost)\n",
        "      #find neighbors of the current node we are exploring\n",
        "      #need to look to see which node is the neighbor and which is the current explored in the edge\n",
        "    if (t[0] == explored_node[0]):\n",
        "      #found neighbor\n",
        "      #update costs of neighbors\n",
        "      neighbor = t[1]\n",
        "\n",
        "      if neighbor not in solution:\n",
        "        #nodecostpairs has attributes (node, cost/distance)\n",
        "        #compare t[2], the edge's cost, to the current cost value for node in stored nodecostpairs\n",
        "        if nodecostpairs[neighbor][1] > t[2]:\n",
        "         \n",
        "          nodecostpairs.pop(neighbor)\n",
        "          nodecostpairs.append((neighbor, t[2]))\n",
        "          nodecostpairs = sorted(nodecostpairs, key=lambda ele: ele[0])\n",
        "          #nodecostpairs[neighbor][1] = t[2]\n",
        "          \n",
        "    if (t[1] == explored_node[0]):\n",
        "      #found neighbor\n",
        "      #update costs of neighbors if the \n",
        "      neighbor = t[0]\n",
        "      if neighbor not in solution:\n",
        "        if nodecostpairs[neighbor][1] > t[2]:\n",
        "         \n",
        "          nodecostpairs.pop(neighbor)\n",
        "          nodecostpairs.append((neighbor, t[2]))\n",
        "          nodecostpairs = sorted(nodecostpairs, key=lambda ele: ele[0])\n",
        "          #nodecostpairs[neighbor][1] = t[2]\n",
        "       \n",
        "  if len(solution) < 5: \n",
        "    \n",
        "   \n",
        "    #new node to expolore is the min distance in the list of nodes not in S\n",
        "\n",
        "    \n",
        "    #add min cost node to solution\n",
        "    \n",
        "    if len(nodesNOTinS) > 0 :\n",
        "      \n",
        "      mincostnode = nodesNOTinS[0]\n",
        "      for a in nodesNOTinS:\n",
        "        if nodecostpairs[a][1] < nodecostpairs[mincostnode][1]:\n",
        "          mincostnode = a\n",
        "          \n",
        "      counter_a = mincostnode\n",
        "  \n",
        "    solution.append(counter_a)\n",
        "    nodesNOTinS.remove(counter_a)\n",
        "\n",
        "  solutionedges = []\n",
        "  for i in range(len(solution)):\n",
        "    if i < (len(solution)-1):\n",
        "      solutionedges.append((solution[i], solution[i+1]))\n",
        "  \n",
        "  #cost calculation\n",
        "  costtotal2 = 0\n",
        "  for i in range(len(solution)):\n",
        "    if i < (len(solution)-1):\n",
        "      ni = solution[i]\n",
        "      nj = solution[i+1]\n",
        "      cninj = Flips[ni][nj]\n",
        "      costtotal2 = costtotal2 +cninj\n",
        "\n",
        "print(\"\")\n",
        "print(\"____________Prims Algorithm Solution___________\")\n",
        "print(solution, solutionedges, \"cost\", costtotal2)\n"
      ],
      "execution_count": null,
      "outputs": [
        {
          "output_type": "stream",
          "text": [
            "[[1, 2, 1.0], [0, 3, 2.0], [1, 4, 2.0], [2, 4, 3.0], [0, 4, 4.0], [3, 4, 4.0], [0, 1, 6.0], [1, 3, 6.0], [0, 2, 7.0]]\n",
            "\n",
            "____________Prims Algorithm Solution___________\n",
            "[0, 3, 4, 1, 2] [(0, 3), (3, 4), (4, 1), (1, 2)] cost 9.0\n"
          ],
          "name": "stdout"
        }
      ]
    },
    {
      "cell_type": "markdown",
      "metadata": {
        "id": "iLqNjPoOByI4",
        "colab_type": "text"
      },
      "source": [
        "Kruskal's and Prim's yield same cost of 9; different solutions because edge costs are not all unique"
      ]
    }
  ]
}